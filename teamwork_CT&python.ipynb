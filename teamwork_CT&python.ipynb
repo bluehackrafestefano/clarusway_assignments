{
 "cells": [
  {
   "cell_type": "code",
   "execution_count": 14,
   "metadata": {},
   "outputs": [
    {
     "output_type": "stream",
     "name": "stdout",
     "text": "10\nOut of range!\n7\n"
    }
   ],
   "source": [
    "list=[1,2,3,4,5,6,7,8,9,0]\n",
    "print(len(list))\n",
    "\n",
    "s = int(input(\"Please write starting index: \"))\n",
    "\n",
    "if s < 0 or s > (len(list)-1):\n",
    "    print(\"Out of range!\")\n",
    "else:\n",
    "    print(list[s])\n",
    "\n",
    "e = int(input(\"Please write ending index: \"))\n",
    "\n",
    "if e < 1 or e > len(list):\n",
    "    print(\"Out of range!\")\n",
    "else:\n",
    "    print(list[e])\n",
    "\n",
    "#CT concepts: Decomposition (first take input, than check them if they are valid or not, finally slice values and print)\n",
    "# Patern Recognition (find the way of checking value for the starting point, apply it for the end point)\n",
    "# Algorithm design is the code itself :)\n"
   ]
  },
  {
   "cell_type": "code",
   "execution_count": null,
   "metadata": {},
   "outputs": [],
   "source": []
  }
 ],
 "metadata": {
  "language_info": {
   "codemirror_mode": {
    "name": "ipython",
    "version": 3
   },
   "file_extension": ".py",
   "mimetype": "text/x-python",
   "name": "python",
   "nbconvert_exporter": "python",
   "pygments_lexer": "ipython3",
   "version": "3.7.6-final"
  },
  "orig_nbformat": 2,
  "kernelspec": {
   "name": "python37664bitbaseconda9b47c6a5841b49e18903d6dd6795e250",
   "display_name": "Python 3.7.6 64-bit ('base': conda)"
  }
 },
 "nbformat": 4,
 "nbformat_minor": 2
}