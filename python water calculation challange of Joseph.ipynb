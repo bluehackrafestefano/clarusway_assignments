{
 "cells": [
  {
   "cell_type": "code",
   "execution_count": 19,
   "metadata": {},
   "outputs": [
    {
     "output_type": "stream",
     "name": "stdout",
     "text": "49\n"
    }
   ],
   "source": [
    "input = [1,8,6,2,5,4,8,3,7]\n",
    "\n",
    "maks1=0\n",
    "maks2=0\n",
    "water=0\n",
    "maks_water=0\n",
    "count1=0\n",
    "\n",
    "for i in input: # First loop for the first point\n",
    "    maks1=i\n",
    "    count1+=1\n",
    "    count2=0  # To begin the second loop, count2 must be reset\n",
    "    for j in input:  # Second loop for the second point\n",
    "        maks2=j\n",
    "        count2+=1\n",
    "        if maks1 <= maks2:  # For not to slant, we must find the lowest point\n",
    "            water=(count2-count1)*maks1\n",
    "        else:\n",
    "            water=(count2-count1)*maks2\n",
    "        \n",
    "        if water > maks_water:  # Assigning bigger area to the result\n",
    "            maks_water=water\n",
    "\n",
    "print(maks_water)\n",
    "    "
   ]
  },
  {
   "cell_type": "code",
   "execution_count": null,
   "metadata": {},
   "outputs": [],
   "source": []
  }
 ],
 "metadata": {
  "language_info": {
   "codemirror_mode": {
    "name": "ipython",
    "version": 3
   },
   "file_extension": ".py",
   "mimetype": "text/x-python",
   "name": "python",
   "nbconvert_exporter": "python",
   "pygments_lexer": "ipython3",
   "version": "3.7.6-final"
  },
  "orig_nbformat": 2,
  "kernelspec": {
   "name": "python37664bitbaseconda9b47c6a5841b49e18903d6dd6795e250",
   "display_name": "Python 3.7.6 64-bit ('base': conda)"
  }
 },
 "nbformat": 4,
 "nbformat_minor": 2
}