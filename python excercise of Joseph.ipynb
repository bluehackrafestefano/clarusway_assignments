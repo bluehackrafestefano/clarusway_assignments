{
 "cells": [
  {
   "cell_type": "code",
   "execution_count": 127,
   "metadata": {},
   "outputs": [
    {
     "output_type": "stream",
     "name": "stdout",
     "text": "{3: '9', 4: '16', 2: '4', 1: '1', 5: '25', 6: '36'}\n"
    }
   ],
   "source": [
    "x = [([3], [4, 2], (1, 5, 6))]\n",
    "\n",
    "y = [item for t in x for item in t] # breaking items in x list to tuples\n",
    "z = [item for t in y for item in t] # breaking tuples in y list to solo integers\n",
    "\n",
    "t =[]\n",
    "for i in z:\n",
    "    t.append(str(i**2))  # creating second list consist of i**2's\n",
    "\n",
    "out = zip(z, t)  # combining list of i's and i**2's\n",
    "\n",
    "print(dict(out))\n"
   ]
  },
  {
   "cell_type": "code",
   "execution_count": null,
   "metadata": {},
   "outputs": [],
   "source": []
  }
 ],
 "metadata": {
  "language_info": {
   "codemirror_mode": {
    "name": "ipython",
    "version": 3
   },
   "file_extension": ".py",
   "mimetype": "text/x-python",
   "name": "python",
   "nbconvert_exporter": "python",
   "pygments_lexer": "ipython3",
   "version": "3.7.6-final"
  },
  "orig_nbformat": 2,
  "kernelspec": {
   "name": "python37664bitbaseconda9b47c6a5841b49e18903d6dd6795e250",
   "display_name": "Python 3.7.6 64-bit ('base': conda)"
  }
 },
 "nbformat": 4,
 "nbformat_minor": 2
}