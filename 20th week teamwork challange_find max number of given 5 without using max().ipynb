{
 "cells": [
  {
   "cell_type": "code",
   "execution_count": 7,
   "metadata": {
    "tags": []
   },
   "outputs": [
    {
     "output_type": "stream",
     "name": "stdout",
     "text": "Maximum number you entered is : 10\n"
    }
   ],
   "source": [
    "\n",
    "numbers=[]\n",
    "count=1\n",
    "while count < 6:\n",
    "    numbers.append(int(input(f\"Please enter a number {count}: \")))\n",
    "    count+=1\n",
    "new_numbers= sorted(numbers)\n",
    "max_number=new_numbers[-1]\n",
    "print(f\"Maximum number you entered is : {max_number}\")"
   ]
  },
  {
   "cell_type": "code",
   "execution_count": null,
   "metadata": {},
   "outputs": [],
   "source": []
  }
 ],
 "metadata": {
  "language_info": {
   "codemirror_mode": {
    "name": "ipython",
    "version": 3
   },
   "file_extension": ".py",
   "mimetype": "text/x-python",
   "name": "python",
   "nbconvert_exporter": "python",
   "pygments_lexer": "ipython3",
   "version": 3
  },
  "orig_nbformat": 2,
  "kernelspec": {
   "name": "python_defaultSpec_1594044965895",
   "display_name": "Python 3.7.6 64-bit ('base': conda)"
  }
 },
 "nbformat": 4,
 "nbformat_minor": 2
}