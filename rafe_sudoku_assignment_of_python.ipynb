{
 "cells": [
  {
   "cell_type": "code",
   "execution_count": 174,
   "metadata": {},
   "outputs": [
    {
     "output_type": "stream",
     "name": "stdout",
     "text": "- - - - - - - - - - - - -\n0 0 0  |  0 6 4  |  0 0 0\n7 0 0  |  0 0 0  |  3 9 0\n8 0 0  |  0 0 0  |  0 0 0\n- - - - - - - - - - - - -\n0 0 0  |  5 0 2  |  0 6 0\n0 8 0  |  4 0 0  |  0 0 0\n3 5 0  |  6 0 0  |  0 7 0\n- - - - - - - - - - - - -\n0 0 2  |  0 0 0  |  1 0 3\n0 0 1  |  0 5 9  |  0 0 0\n0 0 0  |  0 0 0  |  7 0 0\n- - - - - - - - - - - - -\n"
    }
   ],
   "source": [
    "sudoku = [\n",
    "    [0, 0, 0, 0, 6, 4, 0, 0, 0],\n",
    "    [7, 0, 0, 0, 0, 0, 3, 9, 0],\n",
    "    [8, 0, 0, 0, 0, 0, 0, 0, 0],\n",
    "    [0, 0, 0, 5, 0, 2, 0, 6, 0],\n",
    "    [0, 8, 0, 4, 0, 0, 0, 0, 0],\n",
    "    [3, 5, 0, 6, 0, 0, 0, 7, 0],\n",
    "    [0, 0, 2, 0, 0, 0, 1, 0, 3],\n",
    "    [0, 0, 1, 0, 5, 9, 0, 0, 0],\n",
    "    [0, 0, 0, 0, 0, 0, 7, 0, 0]\n",
    "]\n",
    "\n",
    "\n",
    "a=0\n",
    "while a < 7:\n",
    "    print('- - - - - - - - - - - - -')\n",
    "    for i in range(a, a+3):\n",
    "        print(*sudoku[i][0:3],' | ', *sudoku[i][3:6],' | ', *sudoku[i][6:9])\n",
    "    a+=3\n",
    "print('- - - - - - - - - - - - -')"
   ]
  },
  {
   "cell_type": "code",
   "execution_count": null,
   "metadata": {},
   "outputs": [],
   "source": []
  }
 ],
 "metadata": {
  "language_info": {
   "codemirror_mode": {
    "name": "ipython",
    "version": 3
   },
   "file_extension": ".py",
   "mimetype": "text/x-python",
   "name": "python",
   "nbconvert_exporter": "python",
   "pygments_lexer": "ipython3",
   "version": "3.7.6-final"
  },
  "orig_nbformat": 2,
  "kernelspec": {
   "name": "python37664bitbaseconda9b47c6a5841b49e18903d6dd6795e250",
   "display_name": "Python 3.7.6 64-bit ('base': conda)"
  }
 },
 "nbformat": 4,
 "nbformat_minor": 2
}