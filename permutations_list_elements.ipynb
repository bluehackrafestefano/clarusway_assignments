{
 "cells": [
  {
   "cell_type": "code",
   "execution_count": 71,
   "metadata": {},
   "outputs": [
    {
     "output_type": "stream",
     "name": "stdout",
     "text": "[[2, 1]]\n"
    }
   ],
   "source": [
    "\n",
    "\n",
    "lis=[1, 2]\n",
    "\n",
    "a=len(lis)\n",
    "\n",
    "new_lis = []\n",
    "\n",
    "for i in range(a-1):\n",
    "    new_lis.append(lis)\n",
    "    lis[i], lis[i+1] = lis[i+1], lis[i]\n",
    "    print(new_lis)\n",
    "    # for j in range(2):\n",
    "    #     lis[j], lis[j+1] = lis[j+1], lis[j]\n",
    "    #     print(lis)\n",
    "# print(new_lis)\n"
   ]
  },
  {
   "cell_type": "code",
   "execution_count": null,
   "metadata": {},
   "outputs": [],
   "source": []
  }
 ],
 "metadata": {
  "language_info": {
   "codemirror_mode": {
    "name": "ipython",
    "version": 3
   },
   "file_extension": ".py",
   "mimetype": "text/x-python",
   "name": "python",
   "nbconvert_exporter": "python",
   "pygments_lexer": "ipython3",
   "version": "3.8.2-final"
  },
  "orig_nbformat": 2,
  "kernelspec": {
   "name": "python38232bit364b4b707243467daa270c430cdfae63",
   "display_name": "Python 3.8.2 32-bit"
  }
 },
 "nbformat": 4,
 "nbformat_minor": 2
}