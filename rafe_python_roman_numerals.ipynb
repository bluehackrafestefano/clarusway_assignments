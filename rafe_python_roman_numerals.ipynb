{
 "cells": [
  {
   "cell_type": "code",
   "execution_count": 7,
   "metadata": {
    "tags": []
   },
   "outputs": [
    {
     "output_type": "stream",
     "name": "stdout",
     "text": "Your number is --MCXI-- in roman numerals.\n"
    }
   ],
   "source": [
    "sayi = input(\"Please enter a number between 0-3999: \")\n",
    "\n",
    "if sayi.isdigit() and int(sayi)>0 and int(sayi)<4000:\n",
    "\n",
    "    say=int(sayi)\n",
    "\n",
    "    roman=''\n",
    "\n",
    "    M = say//1000\n",
    "    if M != 0 :\n",
    "        say = (say - (M * 1000))\n",
    "        roman+=M*'M'\n",
    "\n",
    "    D = say//500\n",
    "    if D != 0 :\n",
    "        say = (say - (D * 500))\n",
    "        roman+=D*'D'\n",
    "\n",
    "    C = say//100\n",
    "    if C != 0 :\n",
    "        say = (say - (C * 100))\n",
    "        roman+= C*'C'\n",
    "\n",
    "    L = say//50\n",
    "    if L != 0 :\n",
    "        say = (say - (L * 50))\n",
    "        roman+=L*'L'\n",
    "\n",
    "    X = say//10\n",
    "    if X != 0 :\n",
    "        say = (say - (X * 10))\n",
    "        roman+= X*'X'\n",
    "\n",
    "    I = say\n",
    "    if I != 0:\n",
    "        roman+= say*'I'\n",
    "\n",
    "# now lets deal with exceptions:\n",
    "    roman1=roman.replace('DCCCC', 'CM') # this is for 900\n",
    "    roman2=roman1.replace('CCCC', 'CD') # this is for 400\n",
    "    roman3=roman2.replace('LXXXX', 'XC') # this is for 90\n",
    "    roman4=roman3.replace('XXXX', 'XL') # this is for 40\n",
    "    roman5=roman4.replace('IIIIIIIII', 'IX') # this is for 9\n",
    "    roman6=roman5.replace('IIIIIIII', 'VIII') # this is for 8, this is an additional exception\n",
    "    roman7=roman6.replace('IIII', 'IV') # this is for 4\n",
    "    \n",
    "    print(f'Your number is --{roman7}-- in roman numerals.')\n",
    "    \n",
    "else:\n",
    "    print(\"Not Valid! Please enter a number between 1 and 3999 inclusively.\")"
   ]
  }
 ],
 "metadata": {
  "language_info": {
   "codemirror_mode": {
    "name": "ipython",
    "version": 3
   },
   "file_extension": ".py",
   "mimetype": "text/x-python",
   "name": "python",
   "nbconvert_exporter": "python",
   "pygments_lexer": "ipython3",
   "version": "3.7.6-final"
  },
  "orig_nbformat": 2,
  "kernelspec": {
   "name": "python37664bitbaseconda9b47c6a5841b49e18903d6dd6795e250",
   "display_name": "Python 3.7.6 64-bit ('base': conda)"
  }
 },
 "nbformat": 4,
 "nbformat_minor": 2
}