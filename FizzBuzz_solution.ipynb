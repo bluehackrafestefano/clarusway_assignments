{
 "cells": [
  {
   "cell_type": "code",
   "execution_count": 1,
   "metadata": {},
   "outputs": [
    {
     "output_type": "stream",
     "name": "stdout",
     "text": "We got 27 Fizz, 14 Buzz and 6 FizzBuzz\n"
    }
   ],
   "source": [
    "n = int(input('Please enter an range end point: ')) + 1 \n",
    "FzBz = []  # list()\n",
    "# f , b , fb = 0, 0, 0\n",
    "f = 0\n",
    "b = 0\n",
    "fb = 0\n",
    "for num in range(1,n): \n",
    "    if num % 3 == 0 and num % 5 == 0:\n",
    "        FzBz.append('FizzBuzz')\n",
    "        fb +=1\n",
    "    elif num % 5 == 0:\n",
    "        FzBz.append('Buzz')\n",
    "        b +=1\n",
    "    elif num % 3 == 0:\n",
    "        FzBz.append('Fizz')\n",
    "        f +=1\n",
    "    else:\n",
    "         FzBz.append(num)  \n",
    "# print(FzBz)\n",
    "print(f'We got {f} Fizz, {b} Buzz and {fb} FizzBuzz')"
   ]
  },
  {
   "cell_type": "code",
   "execution_count": null,
   "metadata": {},
   "outputs": [],
   "source": []
  }
 ],
 "metadata": {
  "language_info": {
   "codemirror_mode": {
    "name": "ipython",
    "version": 3
   },
   "file_extension": ".py",
   "mimetype": "text/x-python",
   "name": "python",
   "nbconvert_exporter": "python",
   "pygments_lexer": "ipython3",
   "version": "3.8.2-final"
  },
  "orig_nbformat": 2,
  "kernelspec": {
   "name": "python38232bit364b4b707243467daa270c430cdfae63",
   "display_name": "Python 3.8.2 32-bit"
  }
 },
 "nbformat": 4,
 "nbformat_minor": 2
}